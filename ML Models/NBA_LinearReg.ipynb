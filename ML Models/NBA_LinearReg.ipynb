{
 "cells": [
  {
   "cell_type": "code",
   "execution_count": 44,
   "id": "5e324eb9",
   "metadata": {},
   "outputs": [],
   "source": [
    "# Importing the libraries\n",
    "import pandas as pd\n",
    "from pathlib import Path\n",
    "import matplotlib.pyplot as plt\n",
    "from sklearn.linear_model import LinearRegression"
   ]
  },
  {
   "cell_type": "code",
   "execution_count": 45,
   "id": "2d476675",
   "metadata": {},
   "outputs": [
    {
     "name": "stdout",
     "output_type": "stream",
     "text": [
      "             Team    Payroll     Season Playoffs  Wins    PCT\n",
      "0    Golden State  178980766  2021/2022      Yes    53  0.646\n",
      "1        Brooklyn  174811922  2021/2022      Yes    44  0.537\n",
      "2     LA Clippers  168378382  2021/2022       No    42  0.512\n",
      "3       LA Lakers  164409293  2021/2022       No    33  0.402\n",
      "4       Milwaukee  162135421  2021/2022      Yes    51  0.622\n",
      "..            ...        ...        ...      ...   ...    ...\n",
      "145      Brooklyn   95475397  2017/2018       No    28  0.341\n",
      "146       Indiana   95271736  2017/2018      Yes    48  0.585\n",
      "147       Phoenix   92684083  2017/2018       No    21  0.256\n",
      "148       Chicago   90466801  2017/2018       No    27  0.329\n",
      "149        Dallas   85440245  2017/2018       No    24  0.293\n",
      "\n",
      "[150 rows x 6 columns]\n"
     ]
    }
   ],
   "source": [
    "#Importing the dataset\n",
    "data = Path('../Data/NBA_Salary4.csv')\n",
    "df = pd.read_csv(data)\n",
    "print(df)"
   ]
  },
  {
   "cell_type": "code",
   "execution_count": 46,
   "id": "8970746f",
   "metadata": {},
   "outputs": [
    {
     "name": "stdout",
     "output_type": "stream",
     "text": [
      "       Payroll    PCT\n",
      "0    178980766  0.646\n",
      "1    174811922  0.537\n",
      "2    168378382  0.512\n",
      "3    164409293  0.402\n",
      "4    162135421  0.622\n",
      "..         ...    ...\n",
      "145   95475397  0.341\n",
      "146   95271736  0.585\n",
      "147   92684083  0.256\n",
      "148   90466801  0.329\n",
      "149   85440245  0.293\n",
      "\n",
      "[150 rows x 2 columns]\n"
     ]
    }
   ],
   "source": [
    "NBA_df = df.drop(['Team','Season','Playoffs','Wins'], axis=1)\n",
    "print(NBA_df)"
   ]
  },
  {
   "cell_type": "code",
   "execution_count": 47,
   "id": "b24b9a7a",
   "metadata": {},
   "outputs": [
    {
     "data": {
      "image/png": "[encoded data removed]",
      "text/plain": [
       "<Figure size 432x288 with 1 Axes>"
      ]
     },
     "metadata": {
      "needs_background": "light"
     },
     "output_type": "display_data"
    }
   ],
   "source": [
    "plt.scatter(df.Payroll, df.PCT)\n",
    "plt.xlabel('Payroll')\n",
    "plt.ylabel('PCT')\n",
    "plt.show()"
   ]
  },
  {
   "cell_type": "code",
   "execution_count": 48,
   "id": "45e2ff50",
   "metadata": {},
   "outputs": [],
   "source": [
    "X = df.Payroll.values.reshape(-1, 1)"
   ]
  },
  {
   "cell_type": "code",
   "execution_count": 49,
   "id": "db599051",
   "metadata": {},
   "outputs": [
    {
     "data": {
      "text/plain": [
       "array([[178980766],\n",
       "       [174811922],\n",
       "       [168378382],\n",
       "       [164409293],\n",
       "       [162135421]])"
      ]
     },
     "execution_count": 49,
     "metadata": {},
     "output_type": "execute_result"
    }
   ],
   "source": [
    "X[:5]"
   ]
  },
  {
   "cell_type": "code",
   "execution_count": 50,
   "id": "1f32172d",
   "metadata": {},
   "outputs": [
    {
     "data": {
      "text/plain": [
       "(150, 1)"
      ]
     },
     "execution_count": 50,
     "metadata": {},
     "output_type": "execute_result"
    }
   ],
   "source": [
    "# The shape of X is 30 samples, with a single feature (column)\n",
    "X.shape"
   ]
  },
  {
   "cell_type": "code",
   "execution_count": 51,
   "id": "c9d58069",
   "metadata": {},
   "outputs": [],
   "source": [
    "y = df.PCT"
   ]
  },
  {
   "cell_type": "code",
   "execution_count": 52,
   "id": "ac475fcd",
   "metadata": {},
   "outputs": [],
   "source": [
    "# Create a model with scikit-learn\n",
    "model = LinearRegression()"
   ]
  },
  {
   "cell_type": "code",
   "execution_count": 53,
   "id": "0ba36db2",
   "metadata": {},
   "outputs": [
    {
     "data": {
      "text/plain": [
       "LinearRegression()"
      ]
     },
     "execution_count": 53,
     "metadata": {},
     "output_type": "execute_result"
    }
   ],
   "source": [
    "# Fit the data into the model\n",
    "# By convention, X is capitalized and y is lowercase\n",
    "model.fit(X, y)"
   ]
  },
  {
   "cell_type": "code",
   "execution_count": 54,
   "id": "388d3386",
   "metadata": {},
   "outputs": [
    {
     "name": "stdout",
     "output_type": "stream",
     "text": [
      "(150,)\n"
     ]
    }
   ],
   "source": [
    "# The model creates predicted y values based on X values\n",
    "y_pred = model.predict(X)\n",
    "print(y_pred.shape)"
   ]
  },
  {
   "cell_type": "code",
   "execution_count": 55,
   "id": "a01da8f4",
   "metadata": {},
   "outputs": [
    {
     "data": {
      "image/png": "[encoded data removed]",
      "text/plain": [
       "<Figure size 432x288 with 1 Axes>"
      ]
     },
     "metadata": {
      "needs_background": "light"
     },
     "output_type": "display_data"
    }
   ],
   "source": [
    "# Plot the results. The best fit line is red.\n",
    "plt.scatter(X, y)\n",
    "plt.plot(X, y_pred, color='red')\n",
    "plt.show()"
   ]
  },
  {
   "cell_type": "code",
   "execution_count": 56,
   "id": "ca6a9673",
   "metadata": {},
   "outputs": [
    {
     "name": "stdout",
     "output_type": "stream",
     "text": [
      "[3.01648475e-09]\n",
      "0.1259847775565629\n"
     ]
    }
   ],
   "source": [
    "# The slope\n",
    "# The y-intercept\n",
    "print(model.coef_)\n",
    "print(model.intercept_)"
   ]
  },
  {
   "cell_type": "code",
   "execution_count": null,
   "id": "647885b8",
   "metadata": {},
   "outputs": [],
   "source": []
  }
 ],
 "metadata": {
  "kernelspec": {
   "display_name": "Python 3 (ipykernel)",
   "language": "python",
   "name": "python3"
  },
  "language_info": {
   "codemirror_mode": {
    "name": "ipython",
    "version": 3
   },
   "file_extension": ".py",
   "mimetype": "text/x-python",
   "name": "python",
   "nbconvert_exporter": "python",
   "pygments_lexer": "ipython3",
   "version": "3.7.13"
  }
 },
 "nbformat": 4,
 "nbformat_minor": 5
}
