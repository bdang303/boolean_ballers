{
 "cells": [
  {
   "cell_type": "code",
   "execution_count": 9,
   "id": "06cb18ba",
   "metadata": {},
   "outputs": [],
   "source": [
    "import numpy as np\n",
    "import matplotlib.pyplot as plt\n",
    "import pandas as pd\n",
    "import pickle\n",
    "import requests\n",
    "import json\n",
    "%matplotlib inline"
   ]
  },
  {
   "cell_type": "code",
   "execution_count": 10,
   "id": "2e3d84ab",
   "metadata": {},
   "outputs": [
    {
     "name": "stdout",
     "output_type": "stream",
     "text": [
      "             Team  Salary cap     Season  Wins  Losses    PCT\n",
      "0    Golden State   178980766  2021/2022    53      29  0.646\n",
      "1        Brooklyn   174811922  2021/2022    44      38  0.537\n",
      "2     LA Clippers   168378382  2021/2022    42      40  0.512\n",
      "3       LA Lakers   164409293  2021/2022    33      49  0.402\n",
      "4       Milwaukee   162135421  2021/2022    51      31  0.622\n",
      "..            ...         ...        ...   ...     ...    ...\n",
      "145      Brooklyn    95475397  2017/2018    28      54  0.341\n",
      "146       Indiana    95271736  2017/2018    48      34  0.585\n",
      "147       Phoenix    92684083  2017/2018    21      61  0.256\n",
      "148       Chicago    90466801  2017/2018    27      55  0.329\n",
      "149        Dallas    85440245  2017/2018    24      58  0.293\n",
      "\n",
      "[150 rows x 6 columns]\n"
     ]
    }
   ],
   "source": [
    "#Importing the dataset\n",
    "df = pd.read_excel(r'C:\\Users\\Zach Pausa\\PythonStuff\\Final project practice\\NBA_Salary.xlsx')\n",
    "print(df)"
   ]
  },
  {
   "cell_type": "code",
   "execution_count": 11,
   "id": "df8c814c",
   "metadata": {},
   "outputs": [
    {
     "name": "stdout",
     "output_type": "stream",
     "text": [
      "     Salary cap    PCT\n",
      "0     178980766  0.646\n",
      "1     174811922  0.537\n",
      "2     168378382  0.512\n",
      "3     164409293  0.402\n",
      "4     162135421  0.622\n",
      "..          ...    ...\n",
      "145    95475397  0.341\n",
      "146    95271736  0.585\n",
      "147    92684083  0.256\n",
      "148    90466801  0.329\n",
      "149    85440245  0.293\n",
      "\n",
      "[150 rows x 2 columns]\n"
     ]
    }
   ],
   "source": [
    "NBA_df = df.drop(['Team','Season','Wins','Losses'], axis=1)\n",
    "print(NBA_df)"
   ]
  },
  {
   "cell_type": "code",
   "execution_count": 13,
   "id": "37245b33",
   "metadata": {},
   "outputs": [
    {
     "data": {
      "text/plain": [
       "(150, 2)"
      ]
     },
     "execution_count": 13,
     "metadata": {},
     "output_type": "execute_result"
    }
   ],
   "source": [
    "NBA_df.shape"
   ]
  },
  {
   "cell_type": "code",
   "execution_count": 18,
   "id": "dae2747d",
   "metadata": {},
   "outputs": [
    {
     "ename": "NameError",
     "evalue": "name 'ymin' is not defined",
     "output_type": "error",
     "traceback": [
      "\u001b[1;31m---------------------------------------------------------------------------\u001b[0m",
      "\u001b[1;31mNameError\u001b[0m                                 Traceback (most recent call last)",
      "\u001b[1;32mC:\\Users\\ZACHPA~1\\AppData\\Local\\Temp/ipykernel_13108/826836810.py\u001b[0m in \u001b[0;36m<module>\u001b[1;34m\u001b[0m\n\u001b[0;32m      3\u001b[0m \u001b[0mplt\u001b[0m\u001b[1;33m.\u001b[0m\u001b[0mxlabel\u001b[0m\u001b[1;33m(\u001b[0m\u001b[1;34m'Win PCT'\u001b[0m\u001b[1;33m)\u001b[0m\u001b[1;33m\u001b[0m\u001b[1;33m\u001b[0m\u001b[0m\n\u001b[0;32m      4\u001b[0m \u001b[0mplt\u001b[0m\u001b[1;33m.\u001b[0m\u001b[0mylabel\u001b[0m\u001b[1;33m(\u001b[0m\u001b[1;34m'Salary Cap'\u001b[0m\u001b[1;33m)\u001b[0m\u001b[1;33m\u001b[0m\u001b[1;33m\u001b[0m\u001b[0m\n\u001b[1;32m----> 5\u001b[1;33m \u001b[0mplt\u001b[0m\u001b[1;33m.\u001b[0m\u001b[0mylim\u001b[0m\u001b[1;33m(\u001b[0m\u001b[0mymin\u001b[0m\u001b[1;33m,\u001b[0m\u001b[0mymax\u001b[0m\u001b[1;33m)\u001b[0m\u001b[1;33m\u001b[0m\u001b[1;33m\u001b[0m\u001b[0m\n\u001b[0m\u001b[0;32m      6\u001b[0m \u001b[0mplt\u001b[0m\u001b[1;33m.\u001b[0m\u001b[0mshow\u001b[0m\u001b[1;33m(\u001b[0m\u001b[1;33m)\u001b[0m\u001b[1;33m\u001b[0m\u001b[1;33m\u001b[0m\u001b[0m\n",
      "\u001b[1;31mNameError\u001b[0m: name 'ymin' is not defined"
     ]
    },
    {
     "data": {
      "image/png": "[encoded data removed]",
      "text/plain": [
       "<Figure size 432x288 with 1 Axes>"
      ]
     },
     "metadata": {
      "needs_background": "light"
     },
     "output_type": "display_data"
    }
   ],
   "source": [
    "NBA_df.plot(x='PCT', y='Salary cap', style='o', ylim=(0,200000000))\n",
    "plt.title('PCT vs Salary Cap')\n",
    "plt.xlabel('Win PCT')\n",
    "plt.ylabel('Salary Cap')\n",
    "plt.ylim(ymin,ymax)\n",
    "plt.show()"
   ]
  },
  {
   "cell_type": "code",
   "execution_count": null,
   "id": "07a48b7d",
   "metadata": {},
   "outputs": [],
   "source": []
  },
  {
   "cell_type": "code",
   "execution_count": null,
   "id": "81126e5d",
   "metadata": {},
   "outputs": [],
   "source": []
  }
 ],
 "metadata": {
  "kernelspec": {
   "display_name": "Python 3 (ipykernel)",
   "language": "python",
   "name": "python3"
  },
  "language_info": {
   "codemirror_mode": {
    "name": "ipython",
    "version": 3
   },
   "file_extension": ".py",
   "mimetype": "text/x-python",
   "name": "python",
   "nbconvert_exporter": "python",
   "pygments_lexer": "ipython3",
   "version": "3.7.13"
  }
 },
 "nbformat": 4,
 "nbformat_minor": 5
}
