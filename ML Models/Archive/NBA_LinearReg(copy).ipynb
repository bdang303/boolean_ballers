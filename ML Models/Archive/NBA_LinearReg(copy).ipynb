{
 "cells": [
  {
   "cell_type": "code",
   "execution_count": 21,
   "id": "5e324eb9",
   "metadata": {},
   "outputs": [],
   "source": [
    "# Importing the libraries\n",
    "import numpy as np\n",
    "import matplotlib.pyplot as plt\n",
    "import pandas as pd\n",
    "import pickle\n",
    "import requests\n",
    "import json\n",
    "from path import Path"
   ]
  },
  {
   "cell_type": "code",
   "execution_count": 22,
   "id": "2d476675",
   "metadata": {},
   "outputs": [
    {
     "name": "stdout",
     "output_type": "stream",
     "text": [
      "             Team   Salary cap      Season Playoffs  Wins    PCT\n",
      "0    Golden State     178980766  2021/2022      Yes    53  0.646\n",
      "1        Brooklyn     174811922  2021/2022      Yes    44  0.537\n",
      "2     LA Clippers     168378382  2021/2022       No    42  0.512\n",
      "3       LA Lakers     164409293  2021/2022       No    33  0.402\n",
      "4       Milwaukee     162135421  2021/2022      Yes    51  0.622\n",
      "..            ...           ...        ...      ...   ...    ...\n",
      "145      Brooklyn      95475397  2017/2018       No    28  0.341\n",
      "146       Indiana      95271736  2017/2018      Yes    48  0.585\n",
      "147       Phoenix      92684083  2017/2018       No    21  0.256\n",
      "148       Chicago      90466801  2017/2018       No    27  0.329\n",
      "149        Dallas      85440245  2017/2018       No    24  0.293\n",
      "\n",
      "[150 rows x 6 columns]\n"
     ]
    }
   ],
   "source": [
    "#Importing the dataset\n",
    "data = Path('../Data/NBA_Salary4.csv')\n",
    "df = pd.read_csv(data)\n",
    "print(df)"
   ]
  },
  {
   "cell_type": "code",
   "execution_count": 23,
   "id": "8970746f",
   "metadata": {},
   "outputs": [
    {
     "name": "stdout",
     "output_type": "stream",
     "text": [
      "      Salary cap     PCT\n",
      "0       178980766  0.646\n",
      "1       174811922  0.537\n",
      "2       168378382  0.512\n",
      "3       164409293  0.402\n",
      "4       162135421  0.622\n",
      "..            ...    ...\n",
      "145      95475397  0.341\n",
      "146      95271736  0.585\n",
      "147      92684083  0.256\n",
      "148      90466801  0.329\n",
      "149      85440245  0.293\n",
      "\n",
      "[150 rows x 2 columns]\n"
     ]
    }
   ],
   "source": [
    "NBA_df = df.drop(['Team','Season','Playoffs','Wins'], axis=1)\n",
    "print(NBA_df)"
   ]
  },
  {
   "cell_type": "code",
   "execution_count": 24,
   "id": "5f117e5f",
   "metadata": {},
   "outputs": [
    {
     "data": {
      "text/html": [
       "<div>\n",
       "<style scoped>\n",
       "    .dataframe tbody tr th:only-of-type {\n",
       "        vertical-align: middle;\n",
       "    }\n",
       "\n",
       "    .dataframe tbody tr th {\n",
       "        vertical-align: top;\n",
       "    }\n",
       "\n",
       "    .dataframe thead th {\n",
       "        text-align: right;\n",
       "    }\n",
       "</style>\n",
       "<table border=\"1\" class=\"dataframe\">\n",
       "  <thead>\n",
       "    <tr style=\"text-align: right;\">\n",
       "      <th></th>\n",
       "      <th>Team</th>\n",
       "      <th>Salary cap</th>\n",
       "      <th>Season</th>\n",
       "      <th>Playoffs</th>\n",
       "      <th>Wins</th>\n",
       "      <th>PCT</th>\n",
       "    </tr>\n",
       "  </thead>\n",
       "  <tbody>\n",
       "    <tr>\n",
       "      <th>0</th>\n",
       "      <td>Golden State</td>\n",
       "      <td>178980766</td>\n",
       "      <td>2021/2022</td>\n",
       "      <td>Yes</td>\n",
       "      <td>53</td>\n",
       "      <td>0.646</td>\n",
       "    </tr>\n",
       "    <tr>\n",
       "      <th>1</th>\n",
       "      <td>Brooklyn</td>\n",
       "      <td>174811922</td>\n",
       "      <td>2021/2022</td>\n",
       "      <td>Yes</td>\n",
       "      <td>44</td>\n",
       "      <td>0.537</td>\n",
       "    </tr>\n",
       "    <tr>\n",
       "      <th>2</th>\n",
       "      <td>LA Clippers</td>\n",
       "      <td>168378382</td>\n",
       "      <td>2021/2022</td>\n",
       "      <td>No</td>\n",
       "      <td>42</td>\n",
       "      <td>0.512</td>\n",
       "    </tr>\n",
       "    <tr>\n",
       "      <th>3</th>\n",
       "      <td>LA Lakers</td>\n",
       "      <td>164409293</td>\n",
       "      <td>2021/2022</td>\n",
       "      <td>No</td>\n",
       "      <td>33</td>\n",
       "      <td>0.402</td>\n",
       "    </tr>\n",
       "    <tr>\n",
       "      <th>4</th>\n",
       "      <td>Milwaukee</td>\n",
       "      <td>162135421</td>\n",
       "      <td>2021/2022</td>\n",
       "      <td>Yes</td>\n",
       "      <td>51</td>\n",
       "      <td>0.622</td>\n",
       "    </tr>\n",
       "    <tr>\n",
       "      <th>...</th>\n",
       "      <td>...</td>\n",
       "      <td>...</td>\n",
       "      <td>...</td>\n",
       "      <td>...</td>\n",
       "      <td>...</td>\n",
       "      <td>...</td>\n",
       "    </tr>\n",
       "    <tr>\n",
       "      <th>145</th>\n",
       "      <td>Brooklyn</td>\n",
       "      <td>95475397</td>\n",
       "      <td>2017/2018</td>\n",
       "      <td>No</td>\n",
       "      <td>28</td>\n",
       "      <td>0.341</td>\n",
       "    </tr>\n",
       "    <tr>\n",
       "      <th>146</th>\n",
       "      <td>Indiana</td>\n",
       "      <td>95271736</td>\n",
       "      <td>2017/2018</td>\n",
       "      <td>Yes</td>\n",
       "      <td>48</td>\n",
       "      <td>0.585</td>\n",
       "    </tr>\n",
       "    <tr>\n",
       "      <th>147</th>\n",
       "      <td>Phoenix</td>\n",
       "      <td>92684083</td>\n",
       "      <td>2017/2018</td>\n",
       "      <td>No</td>\n",
       "      <td>21</td>\n",
       "      <td>0.256</td>\n",
       "    </tr>\n",
       "    <tr>\n",
       "      <th>148</th>\n",
       "      <td>Chicago</td>\n",
       "      <td>90466801</td>\n",
       "      <td>2017/2018</td>\n",
       "      <td>No</td>\n",
       "      <td>27</td>\n",
       "      <td>0.329</td>\n",
       "    </tr>\n",
       "    <tr>\n",
       "      <th>149</th>\n",
       "      <td>Dallas</td>\n",
       "      <td>85440245</td>\n",
       "      <td>2017/2018</td>\n",
       "      <td>No</td>\n",
       "      <td>24</td>\n",
       "      <td>0.293</td>\n",
       "    </tr>\n",
       "  </tbody>\n",
       "</table>\n",
       "<p>150 rows × 6 columns</p>\n",
       "</div>"
      ],
      "text/plain": [
       "             Team   Salary cap      Season Playoffs  Wins    PCT\n",
       "0    Golden State     178980766  2021/2022      Yes    53  0.646\n",
       "1        Brooklyn     174811922  2021/2022      Yes    44  0.537\n",
       "2     LA Clippers     168378382  2021/2022       No    42  0.512\n",
       "3       LA Lakers     164409293  2021/2022       No    33  0.402\n",
       "4       Milwaukee     162135421  2021/2022      Yes    51  0.622\n",
       "..            ...           ...        ...      ...   ...    ...\n",
       "145      Brooklyn      95475397  2017/2018       No    28  0.341\n",
       "146       Indiana      95271736  2017/2018      Yes    48  0.585\n",
       "147       Phoenix      92684083  2017/2018       No    21  0.256\n",
       "148       Chicago      90466801  2017/2018       No    27  0.329\n",
       "149        Dallas      85440245  2017/2018       No    24  0.293\n",
       "\n",
       "[150 rows x 6 columns]"
      ]
     },
     "execution_count": 24,
     "metadata": {},
     "output_type": "execute_result"
    }
   ],
   "source": [
    "X = NBA_df.iloc[:, :-1].values\n",
    "y = NBA_df.iloc[:, 1].values\n",
    "df"
   ]
  },
  {
   "cell_type": "code",
   "execution_count": 25,
   "id": "b47d4adc",
   "metadata": {},
   "outputs": [
    {
     "name": "stdout",
     "output_type": "stream",
     "text": [
      "[[178980766]\n",
      " [174811922]\n",
      " [168378382]\n",
      " [164409293]\n",
      " [162135421]\n",
      " [149364516]\n",
      " [148922969]\n",
      " [140840240]\n",
      " [138598410]\n",
      " [138181486]\n",
      " [138096726]\n",
      " [137098327]\n",
      " [136476474]\n",
      " [136385911]\n",
      " [136166020]\n",
      " [136083814]\n",
      " [135793968]\n",
      " [134671484]\n",
      " [132267085]\n",
      " [131120355]\n",
      " [130457848]\n",
      " [128019790]\n",
      " [127655401]\n",
      " [126786646]\n",
      " [124788473]\n",
      " [124600538]\n",
      " [122624081]\n",
      " [122139566]\n",
      " [117284457]\n",
      " [ 82022873]\n",
      " [171105334]\n",
      " [170444633]\n",
      " [147825311]\n",
      " [139722606]\n",
      " [139334713]\n",
      " [136881324]\n",
      " [136623929]\n",
      " [134731235]\n",
      " [133901495]\n",
      " [132931565]\n",
      " [132022601]\n",
      " [131904647]\n",
      " [131784255]\n",
      " [131294012]\n",
      " [130334934]\n",
      " [130237102]\n",
      " [129793210]\n",
      " [129605319]\n",
      " [129537825]\n",
      " [129131910]\n",
      " [128963580]\n",
      " [128858241]\n",
      " [127657823]\n",
      " [121739163]\n",
      " [118804016]\n",
      " [117041599]\n",
      " [108218809]\n",
      " [106847430]\n",
      " [102137151]\n",
      " [ 95774839]\n",
      " [132017938]\n",
      " [131979953]\n",
      " [131506341]\n",
      " [131059022]\n",
      " [129912339]\n",
      " [129867871]\n",
      " [129254928]\n",
      " [128746180]\n",
      " [128109922]\n",
      " [126095610]\n",
      " [123971686]\n",
      " [122612183]\n",
      " [122463495]\n",
      " [121296256]\n",
      " [120871082]\n",
      " [119217331]\n",
      " [118910311]\n",
      " [118889943]\n",
      " [117868297]\n",
      " [117759332]\n",
      " [114202982]\n",
      " [113796966]\n",
      " [112872260]\n",
      " [112601901]\n",
      " [110702618]\n",
      " [104527576]\n",
      " [100232129]\n",
      " [ 98539675]\n",
      " [ 98495848]\n",
      " [ 96552033]\n",
      " [153171497]\n",
      " [146291276]\n",
      " [144916427]\n",
      " [137793831]\n",
      " [130988604]\n",
      " [130256600]\n",
      " [126557932]\n",
      " [126474100]\n",
      " [125334993]\n",
      " [125188633]\n",
      " [123747588]\n",
      " [123387454]\n",
      " [123255073]\n",
      " [121962221]\n",
      " [121588790]\n",
      " [121427859]\n",
      " [118850600]\n",
      " [118327016]\n",
      " [118026816]\n",
      " [116052756]\n",
      " [115127167]\n",
      " [114394213]\n",
      " [113826156]\n",
      " [112598201]\n",
      " [110724804]\n",
      " [108692835]\n",
      " [107225482]\n",
      " [101466920]\n",
      " [ 86958881]\n",
      " [ 79180081]\n",
      " [137722926]\n",
      " [137610134]\n",
      " [134534640]\n",
      " [133624374]\n",
      " [123306396]\n",
      " [120814452]\n",
      " [120521249]\n",
      " [119905532]\n",
      " [119773191]\n",
      " [119093010]\n",
      " [118708146]\n",
      " [117382664]\n",
      " [116929373]\n",
      " [116075131]\n",
      " [115284776]\n",
      " [114633844]\n",
      " [110700149]\n",
      " [107543599]\n",
      " [105606838]\n",
      " [105403130]\n",
      " [103126557]\n",
      " [100797386]\n",
      " [ 99992696]\n",
      " [ 99587185]\n",
      " [ 98700258]\n",
      " [ 95475397]\n",
      " [ 95271736]\n",
      " [ 92684083]\n",
      " [ 90466801]\n",
      " [ 85440245]]\n"
     ]
    }
   ],
   "source": [
    "print(X)"
   ]
  },
  {
   "cell_type": "code",
   "execution_count": 26,
   "id": "9ac4efb3",
   "metadata": {},
   "outputs": [
    {
     "name": "stdout",
     "output_type": "stream",
     "text": [
      "[0.646 0.537 0.512 0.402 0.622 0.598 0.622 0.646 0.585 0.305 0.622 0.561\n",
      " 0.78  0.537 0.524 0.561 0.439 0.585 0.244 0.28  0.366 0.427 0.415 0.293\n",
      " 0.329 0.634 0.451 0.524 0.683 0.293 0.542 0.667 0.681 0.653 0.583 0.722\n",
      " 0.639 0.556 0.431 0.5   0.528 0.583 0.236 0.472 0.319 0.472 0.653 0.306\n",
      " 0.458 0.375 0.431 0.708 0.583 0.292 0.569 0.278 0.458 0.431 0.569 0.306\n",
      " 0.611 0.473 0.681 0.292 0.589 0.603 0.231 0.63  0.611 0.452 0.732 0.767\n",
      " 0.736 0.347 0.573 0.451 0.611 0.486 0.417 0.667 0.297 0.431 0.616 0.338\n",
      " 0.299 0.303 0.318 0.466 0.466 0.354 0.476 0.695 0.598 0.707 0.732 0.646\n",
      " 0.5   0.646 0.598 0.402 0.39  0.207 0.232 0.439 0.585 0.476 0.512 0.659\n",
      " 0.585 0.402 0.622 0.512 0.61  0.268 0.585 0.232 0.451 0.476 0.402 0.354\n",
      " 0.61  0.707 0.585 0.537 0.524 0.585 0.537 0.793 0.476 0.512 0.598 0.439\n",
      " 0.72  0.573 0.671 0.573 0.268 0.561 0.585 0.354 0.427 0.634 0.293 0.329\n",
      " 0.305 0.341 0.585 0.256 0.329 0.293]\n"
     ]
    }
   ],
   "source": [
    "print(y)"
   ]
  },
  {
   "cell_type": "code",
   "execution_count": 27,
   "id": "2dd57e9b",
   "metadata": {},
   "outputs": [],
   "source": [
    "# Splitting the dataset into the Training set and Test set\n",
    "from sklearn.model_selection import train_test_split\n",
    "X_train, X_test, y_train, y_test = train_test_split(X, y, test_size = 1/3, random_state = 0)"
   ]
  },
  {
   "cell_type": "code",
   "execution_count": 28,
   "id": "b9f1bd33",
   "metadata": {},
   "outputs": [
    {
     "data": {
      "text/plain": [
       "LinearRegression()"
      ]
     },
     "execution_count": 28,
     "metadata": {},
     "output_type": "execute_result"
    }
   ],
   "source": [
    "# Fitting Simple Linear Regression to the Training set\n",
    "from sklearn.linear_model import LinearRegression\n",
    "regressor = LinearRegression()\n",
    "regressor.fit(X_train, y_train)"
   ]
  },
  {
   "cell_type": "code",
   "execution_count": 29,
   "id": "0c8f135d",
   "metadata": {},
   "outputs": [],
   "source": [
    "# Predicting the Test set results\n",
    "y_pred = regressor.predict(X_test)"
   ]
  },
  {
   "cell_type": "code",
   "execution_count": 30,
   "id": "0e169843",
   "metadata": {},
   "outputs": [],
   "source": [
    "# Saving model to disk\n",
    "pickle.dump(regressor, open('model.pkl','wb'))"
   ]
  },
  {
   "cell_type": "code",
   "execution_count": 31,
   "id": "1cdc3874",
   "metadata": {},
   "outputs": [
    {
     "name": "stdout",
     "output_type": "stream",
     "text": [
      "[0.09010762]\n"
     ]
    }
   ],
   "source": [
    "# Loading model to compare the results\n",
    "model = pickle.load( open('model.pkl','rb'))\n",
    "print(model.predict([[1]]))"
   ]
  },
  {
   "cell_type": "code",
   "execution_count": 32,
   "id": "9d899314",
   "metadata": {},
   "outputs": [
    {
     "ename": "ValueError",
     "evalue": "x and y must have same first dimension, but have shapes (150, 1) and (50,)",
     "output_type": "error",
     "traceback": [
      "\u001b[0;31m---------------------------------------------------------------------------\u001b[0m",
      "\u001b[0;31mValueError\u001b[0m                                Traceback (most recent call last)",
      "\u001b[0;32m/var/folders/z5/qp8h5lk92y9927m8_wxt4fj80000gp/T/ipykernel_81166/3403699599.py\u001b[0m in \u001b[0;36m<module>\u001b[0;34m\u001b[0m\n\u001b[1;32m      1\u001b[0m \u001b[0;31m# Plot the results. The best fit line is red.\u001b[0m\u001b[0;34m\u001b[0m\u001b[0;34m\u001b[0m\u001b[0;34m\u001b[0m\u001b[0m\n\u001b[1;32m      2\u001b[0m \u001b[0mplt\u001b[0m\u001b[0;34m.\u001b[0m\u001b[0mscatter\u001b[0m\u001b[0;34m(\u001b[0m\u001b[0mX\u001b[0m\u001b[0;34m,\u001b[0m \u001b[0my\u001b[0m\u001b[0;34m)\u001b[0m\u001b[0;34m\u001b[0m\u001b[0;34m\u001b[0m\u001b[0m\n\u001b[0;32m----> 3\u001b[0;31m \u001b[0mplt\u001b[0m\u001b[0;34m.\u001b[0m\u001b[0mplot\u001b[0m\u001b[0;34m(\u001b[0m\u001b[0mX\u001b[0m\u001b[0;34m,\u001b[0m \u001b[0my_pred\u001b[0m\u001b[0;34m,\u001b[0m \u001b[0mcolor\u001b[0m\u001b[0;34m=\u001b[0m\u001b[0;34m'red'\u001b[0m\u001b[0;34m)\u001b[0m\u001b[0;34m\u001b[0m\u001b[0;34m\u001b[0m\u001b[0m\n\u001b[0m\u001b[1;32m      4\u001b[0m \u001b[0mplt\u001b[0m\u001b[0;34m.\u001b[0m\u001b[0mshow\u001b[0m\u001b[0;34m(\u001b[0m\u001b[0;34m)\u001b[0m\u001b[0;34m\u001b[0m\u001b[0;34m\u001b[0m\u001b[0m\n",
      "\u001b[0;32m~/opt/anaconda3/envs/mlenv/lib/python3.7/site-packages/matplotlib/pyplot.py\u001b[0m in \u001b[0;36mplot\u001b[0;34m(scalex, scaley, data, *args, **kwargs)\u001b[0m\n\u001b[1;32m   2757\u001b[0m     return gca().plot(\n\u001b[1;32m   2758\u001b[0m         \u001b[0;34m*\u001b[0m\u001b[0margs\u001b[0m\u001b[0;34m,\u001b[0m \u001b[0mscalex\u001b[0m\u001b[0;34m=\u001b[0m\u001b[0mscalex\u001b[0m\u001b[0;34m,\u001b[0m \u001b[0mscaley\u001b[0m\u001b[0;34m=\u001b[0m\u001b[0mscaley\u001b[0m\u001b[0;34m,\u001b[0m\u001b[0;34m\u001b[0m\u001b[0;34m\u001b[0m\u001b[0m\n\u001b[0;32m-> 2759\u001b[0;31m         **({\"data\": data} if data is not None else {}), **kwargs)\n\u001b[0m\u001b[1;32m   2760\u001b[0m \u001b[0;34m\u001b[0m\u001b[0m\n\u001b[1;32m   2761\u001b[0m \u001b[0;34m\u001b[0m\u001b[0m\n",
      "\u001b[0;32m~/opt/anaconda3/envs/mlenv/lib/python3.7/site-packages/matplotlib/axes/_axes.py\u001b[0m in \u001b[0;36mplot\u001b[0;34m(self, scalex, scaley, data, *args, **kwargs)\u001b[0m\n\u001b[1;32m   1630\u001b[0m         \"\"\"\n\u001b[1;32m   1631\u001b[0m         \u001b[0mkwargs\u001b[0m \u001b[0;34m=\u001b[0m \u001b[0mcbook\u001b[0m\u001b[0;34m.\u001b[0m\u001b[0mnormalize_kwargs\u001b[0m\u001b[0;34m(\u001b[0m\u001b[0mkwargs\u001b[0m\u001b[0;34m,\u001b[0m \u001b[0mmlines\u001b[0m\u001b[0;34m.\u001b[0m\u001b[0mLine2D\u001b[0m\u001b[0;34m)\u001b[0m\u001b[0;34m\u001b[0m\u001b[0;34m\u001b[0m\u001b[0m\n\u001b[0;32m-> 1632\u001b[0;31m         \u001b[0mlines\u001b[0m \u001b[0;34m=\u001b[0m \u001b[0;34m[\u001b[0m\u001b[0;34m*\u001b[0m\u001b[0mself\u001b[0m\u001b[0;34m.\u001b[0m\u001b[0m_get_lines\u001b[0m\u001b[0;34m(\u001b[0m\u001b[0;34m*\u001b[0m\u001b[0margs\u001b[0m\u001b[0;34m,\u001b[0m \u001b[0mdata\u001b[0m\u001b[0;34m=\u001b[0m\u001b[0mdata\u001b[0m\u001b[0;34m,\u001b[0m \u001b[0;34m**\u001b[0m\u001b[0mkwargs\u001b[0m\u001b[0;34m)\u001b[0m\u001b[0;34m]\u001b[0m\u001b[0;34m\u001b[0m\u001b[0;34m\u001b[0m\u001b[0m\n\u001b[0m\u001b[1;32m   1633\u001b[0m         \u001b[0;32mfor\u001b[0m \u001b[0mline\u001b[0m \u001b[0;32min\u001b[0m \u001b[0mlines\u001b[0m\u001b[0;34m:\u001b[0m\u001b[0;34m\u001b[0m\u001b[0;34m\u001b[0m\u001b[0m\n\u001b[1;32m   1634\u001b[0m             \u001b[0mself\u001b[0m\u001b[0;34m.\u001b[0m\u001b[0madd_line\u001b[0m\u001b[0;34m(\u001b[0m\u001b[0mline\u001b[0m\u001b[0;34m)\u001b[0m\u001b[0;34m\u001b[0m\u001b[0;34m\u001b[0m\u001b[0m\n",
      "\u001b[0;32m~/opt/anaconda3/envs/mlenv/lib/python3.7/site-packages/matplotlib/axes/_base.py\u001b[0m in \u001b[0;36m__call__\u001b[0;34m(self, data, *args, **kwargs)\u001b[0m\n\u001b[1;32m    310\u001b[0m                 \u001b[0mthis\u001b[0m \u001b[0;34m+=\u001b[0m \u001b[0margs\u001b[0m\u001b[0;34m[\u001b[0m\u001b[0;36m0\u001b[0m\u001b[0;34m]\u001b[0m\u001b[0;34m,\u001b[0m\u001b[0;34m\u001b[0m\u001b[0;34m\u001b[0m\u001b[0m\n\u001b[1;32m    311\u001b[0m                 \u001b[0margs\u001b[0m \u001b[0;34m=\u001b[0m \u001b[0margs\u001b[0m\u001b[0;34m[\u001b[0m\u001b[0;36m1\u001b[0m\u001b[0;34m:\u001b[0m\u001b[0;34m]\u001b[0m\u001b[0;34m\u001b[0m\u001b[0;34m\u001b[0m\u001b[0m\n\u001b[0;32m--> 312\u001b[0;31m             \u001b[0;32myield\u001b[0m \u001b[0;32mfrom\u001b[0m \u001b[0mself\u001b[0m\u001b[0;34m.\u001b[0m\u001b[0m_plot_args\u001b[0m\u001b[0;34m(\u001b[0m\u001b[0mthis\u001b[0m\u001b[0;34m,\u001b[0m \u001b[0mkwargs\u001b[0m\u001b[0;34m)\u001b[0m\u001b[0;34m\u001b[0m\u001b[0;34m\u001b[0m\u001b[0m\n\u001b[0m\u001b[1;32m    313\u001b[0m \u001b[0;34m\u001b[0m\u001b[0m\n\u001b[1;32m    314\u001b[0m     \u001b[0;32mdef\u001b[0m \u001b[0mget_next_color\u001b[0m\u001b[0;34m(\u001b[0m\u001b[0mself\u001b[0m\u001b[0;34m)\u001b[0m\u001b[0;34m:\u001b[0m\u001b[0;34m\u001b[0m\u001b[0;34m\u001b[0m\u001b[0m\n",
      "\u001b[0;32m~/opt/anaconda3/envs/mlenv/lib/python3.7/site-packages/matplotlib/axes/_base.py\u001b[0m in \u001b[0;36m_plot_args\u001b[0;34m(self, tup, kwargs, return_kwargs)\u001b[0m\n\u001b[1;32m    496\u001b[0m \u001b[0;34m\u001b[0m\u001b[0m\n\u001b[1;32m    497\u001b[0m         \u001b[0;32mif\u001b[0m \u001b[0mx\u001b[0m\u001b[0;34m.\u001b[0m\u001b[0mshape\u001b[0m\u001b[0;34m[\u001b[0m\u001b[0;36m0\u001b[0m\u001b[0;34m]\u001b[0m \u001b[0;34m!=\u001b[0m \u001b[0my\u001b[0m\u001b[0;34m.\u001b[0m\u001b[0mshape\u001b[0m\u001b[0;34m[\u001b[0m\u001b[0;36m0\u001b[0m\u001b[0;34m]\u001b[0m\u001b[0;34m:\u001b[0m\u001b[0;34m\u001b[0m\u001b[0;34m\u001b[0m\u001b[0m\n\u001b[0;32m--> 498\u001b[0;31m             raise ValueError(f\"x and y must have same first dimension, but \"\n\u001b[0m\u001b[1;32m    499\u001b[0m                              f\"have shapes {x.shape} and {y.shape}\")\n\u001b[1;32m    500\u001b[0m         \u001b[0;32mif\u001b[0m \u001b[0mx\u001b[0m\u001b[0;34m.\u001b[0m\u001b[0mndim\u001b[0m \u001b[0;34m>\u001b[0m \u001b[0;36m2\u001b[0m \u001b[0;32mor\u001b[0m \u001b[0my\u001b[0m\u001b[0;34m.\u001b[0m\u001b[0mndim\u001b[0m \u001b[0;34m>\u001b[0m \u001b[0;36m2\u001b[0m\u001b[0;34m:\u001b[0m\u001b[0;34m\u001b[0m\u001b[0;34m\u001b[0m\u001b[0m\n",
      "\u001b[0;31mValueError\u001b[0m: x and y must have same first dimension, but have shapes (150, 1) and (50,)"
     ]
    },
    {
     "data": {
      "image/png": "[encoded data removed]",
      "text/plain": [
       "<Figure size 432x288 with 1 Axes>"
      ]
     },
     "metadata": {
      "needs_background": "light"
     },
     "output_type": "display_data"
    }
   ],
   "source": [
    "# Plot the results. The best fit line is red.\n",
    "plt.scatter(X, y)\n",
    "plt.plot(X, y_pred, color='red')\n",
    "plt.show()"
   ]
  },
  {
   "cell_type": "code",
   "execution_count": null,
   "id": "b24b9a7a",
   "metadata": {},
   "outputs": [],
   "source": []
  }
 ],
 "metadata": {
  "kernelspec": {
   "display_name": "Python 3 (ipykernel)",
   "language": "python",
   "name": "python3"
  },
  "language_info": {
   "codemirror_mode": {
    "name": "ipython",
    "version": 3
   },
   "file_extension": ".py",
   "mimetype": "text/x-python",
   "name": "python",
   "nbconvert_exporter": "python",
   "pygments_lexer": "ipython3",
   "version": "3.7.13"
  }
 },
 "nbformat": 4,
 "nbformat_minor": 5
}
