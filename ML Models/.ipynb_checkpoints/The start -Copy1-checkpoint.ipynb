{
 "cells": [
  {
   "cell_type": "code",
   "execution_count": 2,
   "id": "5e324eb9",
   "metadata": {},
   "outputs": [],
   "source": [
    "# Importing the libraries\n",
    "import numpy as np\n",
    "import matplotlib.pyplot as plt\n",
    "import pandas as pd\n",
    "import pickle\n",
    "import requests\n",
    "import json"
   ]
  },
  {
   "cell_type": "code",
   "execution_count": 3,
   "id": "2d476675",
   "metadata": {},
   "outputs": [
    {
     "name": "stdout",
     "output_type": "stream",
     "text": [
      "             Team  Salary cap     Season  Wins  Losses    PCT\n",
      "0    Golden State   178980766  2021/2022    53      29  0.646\n",
      "1        Brooklyn   174811922  2021/2022    44      38  0.537\n",
      "2     LA Clippers   168378382  2021/2022    42      40  0.512\n",
      "3       LA Lakers   164409293  2021/2022    33      49  0.402\n",
      "4       Milwaukee   162135421  2021/2022    51      31  0.622\n",
      "..            ...         ...        ...   ...     ...    ...\n",
      "145      Brooklyn    95475397  2017/2018    28      54  0.341\n",
      "146       Indiana    95271736  2017/2018    48      34  0.585\n",
      "147       Phoenix    92684083  2017/2018    21      61  0.256\n",
      "148       Chicago    90466801  2017/2018    27      55  0.329\n",
      "149        Dallas    85440245  2017/2018    24      58  0.293\n",
      "\n",
      "[150 rows x 6 columns]\n"
     ]
    }
   ],
   "source": [
    "#Importing the dataset\n",
    "df = pd.read_excel(r'C:\\Users\\Zach Pausa\\PythonStuff\\Final project practice\\NBA_Salary.xlsx')\n",
    "print(df)"
   ]
  },
  {
   "cell_type": "code",
   "execution_count": 4,
   "id": "8970746f",
   "metadata": {},
   "outputs": [
    {
     "name": "stdout",
     "output_type": "stream",
     "text": [
      "     Salary cap    PCT\n",
      "0     178980766  0.646\n",
      "1     174811922  0.537\n",
      "2     168378382  0.512\n",
      "3     164409293  0.402\n",
      "4     162135421  0.622\n",
      "..          ...    ...\n",
      "145    95475397  0.341\n",
      "146    95271736  0.585\n",
      "147    92684083  0.256\n",
      "148    90466801  0.329\n",
      "149    85440245  0.293\n",
      "\n",
      "[150 rows x 2 columns]\n"
     ]
    }
   ],
   "source": [
    "NBA_df = df.drop(['Team','Season','Wins','Losses'], axis=1)\n",
    "print(NBA_df)"
   ]
  },
  {
   "cell_type": "code",
   "execution_count": 14,
   "id": "5f117e5f",
   "metadata": {},
   "outputs": [
    {
     "data": {
      "text/html": [
       "<div>\n",
       "<style scoped>\n",
       "    .dataframe tbody tr th:only-of-type {\n",
       "        vertical-align: middle;\n",
       "    }\n",
       "\n",
       "    .dataframe tbody tr th {\n",
       "        vertical-align: top;\n",
       "    }\n",
       "\n",
       "    .dataframe thead th {\n",
       "        text-align: right;\n",
       "    }\n",
       "</style>\n",
       "<table border=\"1\" class=\"dataframe\">\n",
       "  <thead>\n",
       "    <tr style=\"text-align: right;\">\n",
       "      <th></th>\n",
       "      <th>Team</th>\n",
       "      <th>Salary cap</th>\n",
       "      <th>Season</th>\n",
       "      <th>Wins</th>\n",
       "      <th>Losses</th>\n",
       "      <th>PCT</th>\n",
       "    </tr>\n",
       "  </thead>\n",
       "  <tbody>\n",
       "    <tr>\n",
       "      <th>0</th>\n",
       "      <td>Golden State</td>\n",
       "      <td>178980766</td>\n",
       "      <td>2021/2022</td>\n",
       "      <td>53</td>\n",
       "      <td>29</td>\n",
       "      <td>0.646</td>\n",
       "    </tr>\n",
       "    <tr>\n",
       "      <th>1</th>\n",
       "      <td>Brooklyn</td>\n",
       "      <td>174811922</td>\n",
       "      <td>2021/2022</td>\n",
       "      <td>44</td>\n",
       "      <td>38</td>\n",
       "      <td>0.537</td>\n",
       "    </tr>\n",
       "    <tr>\n",
       "      <th>2</th>\n",
       "      <td>LA Clippers</td>\n",
       "      <td>168378382</td>\n",
       "      <td>2021/2022</td>\n",
       "      <td>42</td>\n",
       "      <td>40</td>\n",
       "      <td>0.512</td>\n",
       "    </tr>\n",
       "    <tr>\n",
       "      <th>3</th>\n",
       "      <td>LA Lakers</td>\n",
       "      <td>164409293</td>\n",
       "      <td>2021/2022</td>\n",
       "      <td>33</td>\n",
       "      <td>49</td>\n",
       "      <td>0.402</td>\n",
       "    </tr>\n",
       "    <tr>\n",
       "      <th>4</th>\n",
       "      <td>Milwaukee</td>\n",
       "      <td>162135421</td>\n",
       "      <td>2021/2022</td>\n",
       "      <td>51</td>\n",
       "      <td>31</td>\n",
       "      <td>0.622</td>\n",
       "    </tr>\n",
       "    <tr>\n",
       "      <th>...</th>\n",
       "      <td>...</td>\n",
       "      <td>...</td>\n",
       "      <td>...</td>\n",
       "      <td>...</td>\n",
       "      <td>...</td>\n",
       "      <td>...</td>\n",
       "    </tr>\n",
       "    <tr>\n",
       "      <th>145</th>\n",
       "      <td>Brooklyn</td>\n",
       "      <td>95475397</td>\n",
       "      <td>2017/2018</td>\n",
       "      <td>28</td>\n",
       "      <td>54</td>\n",
       "      <td>0.341</td>\n",
       "    </tr>\n",
       "    <tr>\n",
       "      <th>146</th>\n",
       "      <td>Indiana</td>\n",
       "      <td>95271736</td>\n",
       "      <td>2017/2018</td>\n",
       "      <td>48</td>\n",
       "      <td>34</td>\n",
       "      <td>0.585</td>\n",
       "    </tr>\n",
       "    <tr>\n",
       "      <th>147</th>\n",
       "      <td>Phoenix</td>\n",
       "      <td>92684083</td>\n",
       "      <td>2017/2018</td>\n",
       "      <td>21</td>\n",
       "      <td>61</td>\n",
       "      <td>0.256</td>\n",
       "    </tr>\n",
       "    <tr>\n",
       "      <th>148</th>\n",
       "      <td>Chicago</td>\n",
       "      <td>90466801</td>\n",
       "      <td>2017/2018</td>\n",
       "      <td>27</td>\n",
       "      <td>55</td>\n",
       "      <td>0.329</td>\n",
       "    </tr>\n",
       "    <tr>\n",
       "      <th>149</th>\n",
       "      <td>Dallas</td>\n",
       "      <td>85440245</td>\n",
       "      <td>2017/2018</td>\n",
       "      <td>24</td>\n",
       "      <td>58</td>\n",
       "      <td>0.293</td>\n",
       "    </tr>\n",
       "  </tbody>\n",
       "</table>\n",
       "<p>150 rows × 6 columns</p>\n",
       "</div>"
      ],
      "text/plain": [
       "             Team  Salary cap     Season  Wins  Losses    PCT\n",
       "0    Golden State   178980766  2021/2022    53      29  0.646\n",
       "1        Brooklyn   174811922  2021/2022    44      38  0.537\n",
       "2     LA Clippers   168378382  2021/2022    42      40  0.512\n",
       "3       LA Lakers   164409293  2021/2022    33      49  0.402\n",
       "4       Milwaukee   162135421  2021/2022    51      31  0.622\n",
       "..            ...         ...        ...   ...     ...    ...\n",
       "145      Brooklyn    95475397  2017/2018    28      54  0.341\n",
       "146       Indiana    95271736  2017/2018    48      34  0.585\n",
       "147       Phoenix    92684083  2017/2018    21      61  0.256\n",
       "148       Chicago    90466801  2017/2018    27      55  0.329\n",
       "149        Dallas    85440245  2017/2018    24      58  0.293\n",
       "\n",
       "[150 rows x 6 columns]"
      ]
     },
     "execution_count": 14,
     "metadata": {},
     "output_type": "execute_result"
    }
   ],
   "source": [
    "X = NBA_df.drop(columns=\"PCT\")\n",
    "y = NBA_df[\"PCT\"]\n",
    "df"
   ]
  },
  {
   "cell_type": "code",
   "execution_count": 15,
   "id": "b47d4adc",
   "metadata": {},
   "outputs": [
    {
     "name": "stdout",
     "output_type": "stream",
     "text": [
      "     Salary cap\n",
      "0     178980766\n",
      "1     174811922\n",
      "2     168378382\n",
      "3     164409293\n",
      "4     162135421\n",
      "..          ...\n",
      "145    95475397\n",
      "146    95271736\n",
      "147    92684083\n",
      "148    90466801\n",
      "149    85440245\n",
      "\n",
      "[150 rows x 1 columns]\n"
     ]
    }
   ],
   "source": [
    "print(X)"
   ]
  },
  {
   "cell_type": "code",
   "execution_count": 16,
   "id": "9ac4efb3",
   "metadata": {},
   "outputs": [
    {
     "name": "stdout",
     "output_type": "stream",
     "text": [
      "0      0.646\n",
      "1      0.537\n",
      "2      0.512\n",
      "3      0.402\n",
      "4      0.622\n",
      "       ...  \n",
      "145    0.341\n",
      "146    0.585\n",
      "147    0.256\n",
      "148    0.329\n",
      "149    0.293\n",
      "Name: PCT, Length: 150, dtype: float64\n"
     ]
    }
   ],
   "source": [
    "print(y)"
   ]
  },
  {
   "cell_type": "code",
   "execution_count": 17,
   "id": "2dd57e9b",
   "metadata": {},
   "outputs": [],
   "source": [
    "# Splitting the dataset into the Training set and Test set\n",
    "from sklearn.model_selection import train_test_split\n",
    "X_train, X_test, y_train, y_test = train_test_split(X, y, test_size = 1/3, random_state = 0)"
   ]
  },
  {
   "cell_type": "code",
   "execution_count": 18,
   "id": "b9f1bd33",
   "metadata": {},
   "outputs": [
    {
     "data": {
      "text/plain": [
       "LinearRegression()"
      ]
     },
     "execution_count": 18,
     "metadata": {},
     "output_type": "execute_result"
    }
   ],
   "source": [
    "# Fitting Simple Linear Regression to the Training set\n",
    "from sklearn.linear_model import LinearRegression\n",
    "regressor = LinearRegression()\n",
    "regressor.fit(X_train, y_train)"
   ]
  },
  {
   "cell_type": "code",
   "execution_count": 19,
   "id": "0c8f135d",
   "metadata": {},
   "outputs": [],
   "source": [
    "# Predicting the Test set results\n",
    "y_pred = regressor.predict(X_test)"
   ]
  },
  {
   "cell_type": "code",
   "execution_count": 20,
   "id": "0e169843",
   "metadata": {},
   "outputs": [],
   "source": [
    "# Saving model to disk\n",
    "pickle.dump(regressor, open('model.pkl','wb'))"
   ]
  },
  {
   "cell_type": "code",
   "execution_count": 28,
   "id": "1cdc3874",
   "metadata": {},
   "outputs": [
    {
     "name": "stdout",
     "output_type": "stream",
     "text": [
      "[0.09010762]\n"
     ]
    }
   ],
   "source": [
    "# Loading model to compare the results\n",
    "model = pickle.load( open('model.pkl','rb'))\n",
    "print(model.predict([[1]]))"
   ]
  },
  {
   "cell_type": "code",
   "execution_count": null,
   "id": "9d899314",
   "metadata": {},
   "outputs": [],
   "source": []
  }
 ],
 "metadata": {
  "kernelspec": {
   "display_name": "Python 3 (ipykernel)",
   "language": "python",
   "name": "python3"
  },
  "language_info": {
   "codemirror_mode": {
    "name": "ipython",
    "version": 3
   },
   "file_extension": ".py",
   "mimetype": "text/x-python",
   "name": "python",
   "nbconvert_exporter": "python",
   "pygments_lexer": "ipython3",
   "version": "3.7.13"
  }
 },
 "nbformat": 4,
 "nbformat_minor": 5
}
